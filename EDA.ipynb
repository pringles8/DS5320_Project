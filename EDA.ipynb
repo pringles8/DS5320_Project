{
 "cells": [
  {
   "cell_type": "code",
   "execution_count": 73,
   "id": "previous-sheriff",
   "metadata": {},
   "outputs": [],
   "source": [
    "import pandas as pd\n",
    "import numpy as np\n",
    "import warnings\n",
    "#warnings.filterwarnings('ignore')"
   ]
  },
  {
   "cell_type": "code",
   "execution_count": 2,
   "id": "acquired-origin",
   "metadata": {},
   "outputs": [
    {
     "name": "stdout",
     "output_type": "stream",
     "text": [
      "Shape is:  (190, 1) \n",
      "\n"
     ]
    },
    {
     "data": {
      "text/html": [
       "<div>\n",
       "<style scoped>\n",
       "    .dataframe tbody tr th:only-of-type {\n",
       "        vertical-align: middle;\n",
       "    }\n",
       "\n",
       "    .dataframe tbody tr th {\n",
       "        vertical-align: top;\n",
       "    }\n",
       "\n",
       "    .dataframe thead th {\n",
       "        text-align: right;\n",
       "    }\n",
       "</style>\n",
       "<table border=\"1\" class=\"dataframe\">\n",
       "  <thead>\n",
       "    <tr style=\"text-align: right;\">\n",
       "      <th></th>\n",
       "      <th>Integer;Categorical;Numerical;Numerical;Categorical;Categorical;Categorical;Categorical;Categorical;Categorical;Categorical;Numerical;Ordinal;Ordinal;Categorical;Categorical;Label 1;Label 2;Label 3;Label 4;Label 5;Label 6;Label 7</th>\n",
       "    </tr>\n",
       "  </thead>\n",
       "  <tbody>\n",
       "    <tr>\n",
       "      <th>0</th>\n",
       "      <td>ID;Motorway;SR;NR;TR;VR;SUR1;SUR2;SUR3;UR;FR;O...</td>\n",
       "    </tr>\n",
       "    <tr>\n",
       "      <th>1</th>\n",
       "      <td>1;A1;600;1;1;4;6;2;10;0;0;50;0;0;0;1;0;0;0;0;0...</td>\n",
       "    </tr>\n",
       "    <tr>\n",
       "      <th>2</th>\n",
       "      <td>2;A1;700;1;5;1;10;6;10;3;1;75;1;1;0;1;0;1;1;0;...</td>\n",
       "    </tr>\n",
       "    <tr>\n",
       "      <th>3</th>\n",
       "      <td>3;A1;200;1;5;1;10;6;10;3;4;75;1;1;0;1;0;1;1;0;...</td>\n",
       "    </tr>\n",
       "    <tr>\n",
       "      <th>4</th>\n",
       "      <td>4;A1;300;1;5;0;6;10;2;3;4;25;0;0;0;1;0;0;1;0;0...</td>\n",
       "    </tr>\n",
       "    <tr>\n",
       "      <th>...</th>\n",
       "      <td>...</td>\n",
       "    </tr>\n",
       "    <tr>\n",
       "      <th>185</th>\n",
       "      <td>185;S52;2300;1;12;3;2;2;1;0;0;75;2;1;0;1;0;1;0...</td>\n",
       "    </tr>\n",
       "    <tr>\n",
       "      <th>186</th>\n",
       "      <td>186;S52;300;1;14;2;7;10;2;0;0;100;5;5;0;1;1;1;...</td>\n",
       "    </tr>\n",
       "    <tr>\n",
       "      <th>187</th>\n",
       "      <td>187;S52;500;1;1;4;1;10;2;0;0;100;5;5;0;1;1;1;1...</td>\n",
       "    </tr>\n",
       "    <tr>\n",
       "      <th>188</th>\n",
       "      <td>188;S52;300;1;12;3;2;1;6;0;0;100;1;0;0;1;0;1;1...</td>\n",
       "    </tr>\n",
       "    <tr>\n",
       "      <th>189</th>\n",
       "      <td>189;S52;300;1;12;3;2;6;10;0;0;100;1;1;0;1;0;1;...</td>\n",
       "    </tr>\n",
       "  </tbody>\n",
       "</table>\n",
       "<p>190 rows × 1 columns</p>\n",
       "</div>"
      ],
      "text/plain": [
       "    Integer;Categorical;Numerical;Numerical;Categorical;Categorical;Categorical;Categorical;Categorical;Categorical;Categorical;Numerical;Ordinal;Ordinal;Categorical;Categorical;Label 1;Label 2;Label 3;Label 4;Label 5;Label 6;Label 7\n",
       "0    ID;Motorway;SR;NR;TR;VR;SUR1;SUR2;SUR3;UR;FR;O...                                                                                                                                                                                   \n",
       "1    1;A1;600;1;1;4;6;2;10;0;0;50;0;0;0;1;0;0;0;0;0...                                                                                                                                                                                   \n",
       "2    2;A1;700;1;5;1;10;6;10;3;1;75;1;1;0;1;0;1;1;0;...                                                                                                                                                                                   \n",
       "3    3;A1;200;1;5;1;10;6;10;3;4;75;1;1;0;1;0;1;1;0;...                                                                                                                                                                                   \n",
       "4    4;A1;300;1;5;0;6;10;2;3;4;25;0;0;0;1;0;0;1;0;0...                                                                                                                                                                                   \n",
       "..                                                 ...                                                                                                                                                                                   \n",
       "185  185;S52;2300;1;12;3;2;2;1;0;0;75;2;1;0;1;0;1;0...                                                                                                                                                                                   \n",
       "186  186;S52;300;1;14;2;7;10;2;0;0;100;5;5;0;1;1;1;...                                                                                                                                                                                   \n",
       "187  187;S52;500;1;1;4;1;10;2;0;0;100;5;5;0;1;1;1;1...                                                                                                                                                                                   \n",
       "188  188;S52;300;1;12;3;2;1;6;0;0;100;1;0;0;1;0;1;1...                                                                                                                                                                                   \n",
       "189  189;S52;300;1;12;3;2;6;10;0;0;100;1;1;0;1;0;1;...                                                                                                                                                                                   \n",
       "\n",
       "[190 rows x 1 columns]"
      ]
     },
     "execution_count": 2,
     "metadata": {},
     "output_type": "execute_result"
    }
   ],
   "source": [
    "data = pd.read_csv('dataset.csv')\n",
    "print('Shape is: ', data.shape, '\\n')\n",
    "data"
   ]
  },
  {
   "cell_type": "markdown",
   "id": "enormous-lewis",
   "metadata": {},
   "source": [
    "### Titles are datatypes, first row is the titles, rest of the rows have all info in one column."
   ]
  },
  {
   "cell_type": "code",
   "execution_count": 3,
   "id": "liberal-pearl",
   "metadata": {},
   "outputs": [],
   "source": [
    "data_types = data.columns[0].split(sep=';')\n",
    "col_names = data.iloc[0,0].split(sep=';')"
   ]
  },
  {
   "cell_type": "code",
   "execution_count": 4,
   "id": "stretch-penguin",
   "metadata": {},
   "outputs": [],
   "source": [
    "holding_array = []\n",
    "for i in data.iloc[1:190,0]:\n",
    "    row = i.split(sep=';')\n",
    "    holding_array.append(row)\n",
    "    \n",
    "data = np.array(holding_array)"
   ]
  },
  {
   "cell_type": "code",
   "execution_count": 5,
   "id": "animated-newcastle",
   "metadata": {},
   "outputs": [
    {
     "name": "stdout",
     "output_type": "stream",
     "text": [
      "The data types are:  ['Integer', 'Categorical', 'Numerical', 'Numerical', 'Categorical', 'Categorical', 'Categorical', 'Categorical', 'Categorical', 'Categorical', 'Categorical', 'Numerical', 'Ordinal', 'Ordinal', 'Categorical', 'Categorical', 'Label 1', 'Label 2', 'Label 3', 'Label 4', 'Label 5', 'Label 6', 'Label 7'] \n",
      "\n",
      "The columns names are:  ['ID', 'Motorway', 'SR', 'NR', 'TR', 'VR', 'SUR1', 'SUR2', 'SUR3', 'UR', 'FR', 'OR', 'RR', 'BR', 'MR', 'CR', 'Green frogs', 'Brown frogs', 'Common toad', 'Fire-bellied toad', 'Tree frog', 'Common newt', 'Great crested newt'] \n",
      "\n",
      "The shape of the data is:  (189, 23) \n",
      "\n"
     ]
    },
    {
     "data": {
      "text/plain": [
       "array([['1', 'A1', '600', ..., '0', '0', '0'],\n",
       "       ['2', 'A1', '700', ..., '0', '1', '0'],\n",
       "       ['3', 'A1', '200', ..., '0', '1', '0'],\n",
       "       ...,\n",
       "       ['187', 'S52', '500', ..., '0', '1', '0'],\n",
       "       ['188', 'S52', '300', ..., '0', '0', '0'],\n",
       "       ['189', 'S52', '300', ..., '0', '0', '0']], dtype='<U6')"
      ]
     },
     "execution_count": 5,
     "metadata": {},
     "output_type": "execute_result"
    }
   ],
   "source": [
    "print('The data types are: ', data_types, '\\n')\n",
    "print('The columns names are: ', col_names, '\\n')\n",
    "print('The shape of the data is: ', data.shape, '\\n')\n",
    "data"
   ]
  },
  {
   "cell_type": "markdown",
   "id": "coated-preview",
   "metadata": {},
   "source": [
    "### Check for missing data"
   ]
  },
  {
   "cell_type": "code",
   "execution_count": 6,
   "id": "fatal-modification",
   "metadata": {},
   "outputs": [
    {
     "data": {
      "text/plain": [
       "array([], dtype=int64)"
      ]
     },
     "execution_count": 6,
     "metadata": {},
     "output_type": "execute_result"
    }
   ],
   "source": [
    "np.nonzero(pd.isnull(data))[0]"
   ]
  },
  {
   "cell_type": "markdown",
   "id": "swiss-finish",
   "metadata": {},
   "source": [
    "### No missing data. Lets look at the visualization of the data as well as how it splits with the 7 classification types. First I will write in the columns' full titles and meanings. All of this information can be found at the source of the data on https://archive.ics.uci.edu/ml/datasets/Amphibians#:\n",
    "#### Col. 1: ID\n",
    "#### Col. 2: MV is a catergorical data type with two categories, A1 and S52. This data is originally from environmental impact assessment (EIA) reports for two planned road projects (A1 motorway section in Pyrzowice and Beskidy Integration Way on the Bielsko BiaÅ‚a-Wadowice-GÅ‚ogoczÃ³w section of the S52 motorway) in Poland.\n",
    "#### Col. 3: SR - Surface area of water reservoir(cubic meters).\n",
    "#### Col. 4: NR - Number of water reservoirs in habitat. The larger the number of reservoirs, the more likely it is that some of them will be suitable for amphibian breeding.\n",
    "#### Col. 5: TR - Type of water reservoir. This is a categorical data type with categories a-j;  \n",
    "##### a: reservoirs with natural features that are natural or anthropogenic water reservoirs, not subject to naturalization*\n",
    "##### b: recently formed reservoirs not subjected to naturalization*\n",
    "##### c: settling ponds\n",
    "##### d: water reservoirs located near houses\n",
    "##### e: technological water reservoirs\n",
    "##### f: water reservoirs in allotment gardens\n",
    "##### g: trenches\n",
    "##### h: wet meadows, flood plains, marshes\n",
    "##### i: river valleys\n",
    "##### j: streams and very small watercourses\n",
    "##### *naturalization refers to the process of removing anthropogenic influences from streamflow time series, to the point that naturalized flows are often considered true natural flows in many studies. See: https://www.tandfonline.com/doi/abs/10.1080/02626667.2020.1839080?journalCode=thsj20\n",
    "#### Col. 6: VR - Presence of vegetation within the reservoirs. This is a categorical data type with categories a-e:\n",
    "##### a: no vegetation\n",
    "##### b: narrow patches at the edges\n",
    "##### c: areas heavily overgrown\n",
    "##### d: lush vegetation within the reservoir with some part devoid of vegetation\n",
    "##### e: reservoirs completely overgrown with a disappearing water table\n",
    "##### Comment from study: The vegetation in the reservoir favors amphibians, facilitates breeding, and allows the larvae to feed and give shelter. However, excess vegetation can lead to the overgrowth of the pond and water shortages.\n",
    "#### Col. 7: SUR1* - The dominant types of land cover surrounding the water reservoir.\n",
    "#### Col. 8: SUR2* - The second most dominant types of land cover surrounding the water reservoir.\n",
    "#### Col. 9: SUR3* - The third most dominant types of land cover surrounding the water reservoir.\n",
    "#### *Surrounding land type categories: \n",
    "##### a. forest areas (with meadows) and densely wooded areas\n",
    "##### b. areas of wasteland and meadows\n",
    "##### c. allotment gardens\n",
    "##### d. parks and green areas\n",
    "##### e. dense building development, industrial areas\n",
    "##### f. dispersed habitation, orchards, gardens\n",
    "##### g. river valleys\n",
    "##### h. roads, streets\n",
    "##### i. agricultural land\n",
    "##### Comment from study: The most valuable surroundings of water reservoirs for amphibians are areas with the least anthropopressure and proper moisture.\n",
    "#### Col. 10: UR - Use of water reservoir. Categories are:\n",
    "##### a. unused by man (very attractive for amphibians)\n",
    "##### b. recreational and scenic (care work is performed)\n",
    "##### c. used economically (often fish farming)\n",
    "##### d. technological\n",
    "#### Col. 11: FR - The presence of fishing. Categories are:\n",
    "##### a. lack of or occasional fishing\n",
    "##### b. intense fishing\n",
    "##### c. breeding reservoirs\n",
    "##### Comment from study: The presence of a large amount of fishing, in particular predatory and intense fishing, is not conducive to the presence of amphibians.\n",
    "#### Col. 12: OR - Percentage access from the edges of the reservoir to undeveloped areas (the proposed percentage ranges are a numerical reflection of the phrases: lack of access, low access, medium access, large access to free space). Percentages, most are factors of 25 with the exception of a few 80 and 99 percents.\n",
    "#### Col. 13: RR - Minimum distance from the water reservoir to roads. Categorical: [0, 1, 2, 5, 9, 10] representing <50 m, 50-100 m, 100-200 m, 200-500 m, 500 - 1000 m, >1000 m respectively.\n",
    "##### Comment from study: The greater the distance between the reservoir and the road, the more safety for amphibians.\n",
    "#### Col. 14: BR - Minimum distance to buildings. Same category assignments as RR. Same comment from study as RR.\n",
    "#### Col. 15: MR - Maintenance status of the reservoir. Categorical: [0, 1, 2] representing clean, slightly littered, reservoirs heavily or very heavily littered, respectively.\n",
    "##### Comment from study: Trash causes devastation of the reservoir ecosystem. Backfilling and leveling of water reservoirs with ground and debris should also be considered.\n",
    "#### Col. 16: CR - Type of shore. Categorical: [1, 2] representing natural and concrete respectively. \n",
    "##### Comment from study: A concrete shore of a reservoir is not attractive for amphibians. A vertical concrete shore is usually a barrier for amphibians when they try to leave the water.\n",
    "\n",
    "#### The rest of the columns are one-hot vectors for the classified types of frogs. There are 7 labels - green frogs, brown frogs, common toad, fire-bellied toad, tree frog, common newt, great crested newt - in that respective order."
   ]
  },
  {
   "cell_type": "markdown",
   "id": "express-banner",
   "metadata": {},
   "source": [
    "Let's split the features and the labels."
   ]
  },
  {
   "cell_type": "code",
   "execution_count": 186,
   "id": "eleven-sector",
   "metadata": {},
   "outputs": [
    {
     "name": "stdout",
     "output_type": "stream",
     "text": [
      "Feature shape:  (189, 15)\n",
      "Check that we have all the labels. The label shape is:  (189, 7)\n"
     ]
    }
   ],
   "source": [
    "X = data[:, 0:16]\n",
    "X = X[:,1:len(X)]\n",
    "X[:, 1:len(X)] = X[:, 1:len(X)].astype(int)\n",
    "X = pd.DataFrame(X, columns = col_names[1:-7])\n",
    "\n",
    "Y = data[:, -7:len(data)].astype(int)\n",
    "Y = pd.DataFrame(Y, columns = col_names[-7:len(col_names)])\n",
    "\n",
    "print('Feature shape: ', X.shape)\n",
    "print('Check that we have all the labels. The label shape is: ', Y.shape)"
   ]
  },
  {
   "cell_type": "code",
   "execution_count": 187,
   "id": "joint-peninsula",
   "metadata": {},
   "outputs": [
    {
     "data": {
      "text/html": [
       "<div>\n",
       "<style scoped>\n",
       "    .dataframe tbody tr th:only-of-type {\n",
       "        vertical-align: middle;\n",
       "    }\n",
       "\n",
       "    .dataframe tbody tr th {\n",
       "        vertical-align: top;\n",
       "    }\n",
       "\n",
       "    .dataframe thead th {\n",
       "        text-align: right;\n",
       "    }\n",
       "</style>\n",
       "<table border=\"1\" class=\"dataframe\">\n",
       "  <thead>\n",
       "    <tr style=\"text-align: right;\">\n",
       "      <th></th>\n",
       "      <th>Motorway</th>\n",
       "      <th>SR</th>\n",
       "      <th>NR</th>\n",
       "      <th>TR</th>\n",
       "      <th>VR</th>\n",
       "      <th>SUR1</th>\n",
       "      <th>SUR2</th>\n",
       "      <th>SUR3</th>\n",
       "      <th>UR</th>\n",
       "      <th>FR</th>\n",
       "      <th>OR</th>\n",
       "      <th>RR</th>\n",
       "      <th>BR</th>\n",
       "      <th>MR</th>\n",
       "      <th>CR</th>\n",
       "    </tr>\n",
       "  </thead>\n",
       "  <tbody>\n",
       "    <tr>\n",
       "      <th>0</th>\n",
       "      <td>A1</td>\n",
       "      <td>600</td>\n",
       "      <td>1</td>\n",
       "      <td>1</td>\n",
       "      <td>4</td>\n",
       "      <td>6</td>\n",
       "      <td>2</td>\n",
       "      <td>10</td>\n",
       "      <td>0</td>\n",
       "      <td>0</td>\n",
       "      <td>50</td>\n",
       "      <td>0</td>\n",
       "      <td>0</td>\n",
       "      <td>0</td>\n",
       "      <td>1</td>\n",
       "    </tr>\n",
       "    <tr>\n",
       "      <th>1</th>\n",
       "      <td>A1</td>\n",
       "      <td>700</td>\n",
       "      <td>1</td>\n",
       "      <td>5</td>\n",
       "      <td>1</td>\n",
       "      <td>10</td>\n",
       "      <td>6</td>\n",
       "      <td>10</td>\n",
       "      <td>3</td>\n",
       "      <td>1</td>\n",
       "      <td>75</td>\n",
       "      <td>1</td>\n",
       "      <td>1</td>\n",
       "      <td>0</td>\n",
       "      <td>1</td>\n",
       "    </tr>\n",
       "    <tr>\n",
       "      <th>2</th>\n",
       "      <td>A1</td>\n",
       "      <td>200</td>\n",
       "      <td>1</td>\n",
       "      <td>5</td>\n",
       "      <td>1</td>\n",
       "      <td>10</td>\n",
       "      <td>6</td>\n",
       "      <td>10</td>\n",
       "      <td>3</td>\n",
       "      <td>4</td>\n",
       "      <td>75</td>\n",
       "      <td>1</td>\n",
       "      <td>1</td>\n",
       "      <td>0</td>\n",
       "      <td>1</td>\n",
       "    </tr>\n",
       "    <tr>\n",
       "      <th>3</th>\n",
       "      <td>A1</td>\n",
       "      <td>300</td>\n",
       "      <td>1</td>\n",
       "      <td>5</td>\n",
       "      <td>0</td>\n",
       "      <td>6</td>\n",
       "      <td>10</td>\n",
       "      <td>2</td>\n",
       "      <td>3</td>\n",
       "      <td>4</td>\n",
       "      <td>25</td>\n",
       "      <td>0</td>\n",
       "      <td>0</td>\n",
       "      <td>0</td>\n",
       "      <td>1</td>\n",
       "    </tr>\n",
       "    <tr>\n",
       "      <th>4</th>\n",
       "      <td>A1</td>\n",
       "      <td>600</td>\n",
       "      <td>2</td>\n",
       "      <td>1</td>\n",
       "      <td>4</td>\n",
       "      <td>10</td>\n",
       "      <td>2</td>\n",
       "      <td>6</td>\n",
       "      <td>0</td>\n",
       "      <td>0</td>\n",
       "      <td>99</td>\n",
       "      <td>0</td>\n",
       "      <td>5</td>\n",
       "      <td>0</td>\n",
       "      <td>1</td>\n",
       "    </tr>\n",
       "    <tr>\n",
       "      <th>...</th>\n",
       "      <td>...</td>\n",
       "      <td>...</td>\n",
       "      <td>...</td>\n",
       "      <td>...</td>\n",
       "      <td>...</td>\n",
       "      <td>...</td>\n",
       "      <td>...</td>\n",
       "      <td>...</td>\n",
       "      <td>...</td>\n",
       "      <td>...</td>\n",
       "      <td>...</td>\n",
       "      <td>...</td>\n",
       "      <td>...</td>\n",
       "      <td>...</td>\n",
       "      <td>...</td>\n",
       "    </tr>\n",
       "    <tr>\n",
       "      <th>184</th>\n",
       "      <td>S52</td>\n",
       "      <td>2300</td>\n",
       "      <td>1</td>\n",
       "      <td>12</td>\n",
       "      <td>3</td>\n",
       "      <td>2</td>\n",
       "      <td>2</td>\n",
       "      <td>1</td>\n",
       "      <td>0</td>\n",
       "      <td>0</td>\n",
       "      <td>75</td>\n",
       "      <td>2</td>\n",
       "      <td>1</td>\n",
       "      <td>0</td>\n",
       "      <td>1</td>\n",
       "    </tr>\n",
       "    <tr>\n",
       "      <th>185</th>\n",
       "      <td>S52</td>\n",
       "      <td>300</td>\n",
       "      <td>1</td>\n",
       "      <td>14</td>\n",
       "      <td>2</td>\n",
       "      <td>7</td>\n",
       "      <td>10</td>\n",
       "      <td>2</td>\n",
       "      <td>0</td>\n",
       "      <td>0</td>\n",
       "      <td>100</td>\n",
       "      <td>5</td>\n",
       "      <td>5</td>\n",
       "      <td>0</td>\n",
       "      <td>1</td>\n",
       "    </tr>\n",
       "    <tr>\n",
       "      <th>186</th>\n",
       "      <td>S52</td>\n",
       "      <td>500</td>\n",
       "      <td>1</td>\n",
       "      <td>1</td>\n",
       "      <td>4</td>\n",
       "      <td>1</td>\n",
       "      <td>10</td>\n",
       "      <td>2</td>\n",
       "      <td>0</td>\n",
       "      <td>0</td>\n",
       "      <td>100</td>\n",
       "      <td>5</td>\n",
       "      <td>5</td>\n",
       "      <td>0</td>\n",
       "      <td>1</td>\n",
       "    </tr>\n",
       "    <tr>\n",
       "      <th>187</th>\n",
       "      <td>S52</td>\n",
       "      <td>300</td>\n",
       "      <td>1</td>\n",
       "      <td>12</td>\n",
       "      <td>3</td>\n",
       "      <td>2</td>\n",
       "      <td>1</td>\n",
       "      <td>6</td>\n",
       "      <td>0</td>\n",
       "      <td>0</td>\n",
       "      <td>100</td>\n",
       "      <td>1</td>\n",
       "      <td>0</td>\n",
       "      <td>0</td>\n",
       "      <td>1</td>\n",
       "    </tr>\n",
       "    <tr>\n",
       "      <th>188</th>\n",
       "      <td>S52</td>\n",
       "      <td>300</td>\n",
       "      <td>1</td>\n",
       "      <td>12</td>\n",
       "      <td>3</td>\n",
       "      <td>2</td>\n",
       "      <td>6</td>\n",
       "      <td>10</td>\n",
       "      <td>0</td>\n",
       "      <td>0</td>\n",
       "      <td>100</td>\n",
       "      <td>1</td>\n",
       "      <td>1</td>\n",
       "      <td>0</td>\n",
       "      <td>1</td>\n",
       "    </tr>\n",
       "  </tbody>\n",
       "</table>\n",
       "<p>189 rows × 15 columns</p>\n",
       "</div>"
      ],
      "text/plain": [
       "    Motorway    SR NR  TR VR SUR1 SUR2 SUR3 UR FR   OR RR BR MR CR\n",
       "0         A1   600  1   1  4    6    2   10  0  0   50  0  0  0  1\n",
       "1         A1   700  1   5  1   10    6   10  3  1   75  1  1  0  1\n",
       "2         A1   200  1   5  1   10    6   10  3  4   75  1  1  0  1\n",
       "3         A1   300  1   5  0    6   10    2  3  4   25  0  0  0  1\n",
       "4         A1   600  2   1  4   10    2    6  0  0   99  0  5  0  1\n",
       "..       ...   ... ..  .. ..  ...  ...  ... .. ..  ... .. .. .. ..\n",
       "184      S52  2300  1  12  3    2    2    1  0  0   75  2  1  0  1\n",
       "185      S52   300  1  14  2    7   10    2  0  0  100  5  5  0  1\n",
       "186      S52   500  1   1  4    1   10    2  0  0  100  5  5  0  1\n",
       "187      S52   300  1  12  3    2    1    6  0  0  100  1  0  0  1\n",
       "188      S52   300  1  12  3    2    6   10  0  0  100  1  1  0  1\n",
       "\n",
       "[189 rows x 15 columns]"
      ]
     },
     "execution_count": 187,
     "metadata": {},
     "output_type": "execute_result"
    }
   ],
   "source": [
    "X"
   ]
  },
  {
   "cell_type": "code",
   "execution_count": 30,
   "id": "heard-naples",
   "metadata": {},
   "outputs": [
    {
     "data": {
      "text/html": [
       "<div>\n",
       "<style scoped>\n",
       "    .dataframe tbody tr th:only-of-type {\n",
       "        vertical-align: middle;\n",
       "    }\n",
       "\n",
       "    .dataframe tbody tr th {\n",
       "        vertical-align: top;\n",
       "    }\n",
       "\n",
       "    .dataframe thead th {\n",
       "        text-align: right;\n",
       "    }\n",
       "</style>\n",
       "<table border=\"1\" class=\"dataframe\">\n",
       "  <thead>\n",
       "    <tr style=\"text-align: right;\">\n",
       "      <th></th>\n",
       "      <th>Green frogs</th>\n",
       "      <th>Brown frogs</th>\n",
       "      <th>Common toad</th>\n",
       "      <th>Fire-bellied toad</th>\n",
       "      <th>Tree frog</th>\n",
       "      <th>Common newt</th>\n",
       "      <th>Great crested newt</th>\n",
       "    </tr>\n",
       "  </thead>\n",
       "  <tbody>\n",
       "    <tr>\n",
       "      <th>0</th>\n",
       "      <td>0</td>\n",
       "      <td>0</td>\n",
       "      <td>0</td>\n",
       "      <td>0</td>\n",
       "      <td>0</td>\n",
       "      <td>0</td>\n",
       "      <td>0</td>\n",
       "    </tr>\n",
       "    <tr>\n",
       "      <th>1</th>\n",
       "      <td>0</td>\n",
       "      <td>1</td>\n",
       "      <td>1</td>\n",
       "      <td>0</td>\n",
       "      <td>0</td>\n",
       "      <td>1</td>\n",
       "      <td>0</td>\n",
       "    </tr>\n",
       "    <tr>\n",
       "      <th>2</th>\n",
       "      <td>0</td>\n",
       "      <td>1</td>\n",
       "      <td>1</td>\n",
       "      <td>0</td>\n",
       "      <td>0</td>\n",
       "      <td>1</td>\n",
       "      <td>0</td>\n",
       "    </tr>\n",
       "    <tr>\n",
       "      <th>3</th>\n",
       "      <td>0</td>\n",
       "      <td>0</td>\n",
       "      <td>1</td>\n",
       "      <td>0</td>\n",
       "      <td>0</td>\n",
       "      <td>0</td>\n",
       "      <td>0</td>\n",
       "    </tr>\n",
       "    <tr>\n",
       "      <th>4</th>\n",
       "      <td>0</td>\n",
       "      <td>1</td>\n",
       "      <td>1</td>\n",
       "      <td>1</td>\n",
       "      <td>0</td>\n",
       "      <td>1</td>\n",
       "      <td>1</td>\n",
       "    </tr>\n",
       "    <tr>\n",
       "      <th>...</th>\n",
       "      <td>...</td>\n",
       "      <td>...</td>\n",
       "      <td>...</td>\n",
       "      <td>...</td>\n",
       "      <td>...</td>\n",
       "      <td>...</td>\n",
       "      <td>...</td>\n",
       "    </tr>\n",
       "    <tr>\n",
       "      <th>184</th>\n",
       "      <td>0</td>\n",
       "      <td>1</td>\n",
       "      <td>0</td>\n",
       "      <td>0</td>\n",
       "      <td>0</td>\n",
       "      <td>0</td>\n",
       "      <td>0</td>\n",
       "    </tr>\n",
       "    <tr>\n",
       "      <th>185</th>\n",
       "      <td>1</td>\n",
       "      <td>1</td>\n",
       "      <td>1</td>\n",
       "      <td>1</td>\n",
       "      <td>0</td>\n",
       "      <td>1</td>\n",
       "      <td>0</td>\n",
       "    </tr>\n",
       "    <tr>\n",
       "      <th>186</th>\n",
       "      <td>1</td>\n",
       "      <td>1</td>\n",
       "      <td>1</td>\n",
       "      <td>1</td>\n",
       "      <td>0</td>\n",
       "      <td>1</td>\n",
       "      <td>0</td>\n",
       "    </tr>\n",
       "    <tr>\n",
       "      <th>187</th>\n",
       "      <td>0</td>\n",
       "      <td>1</td>\n",
       "      <td>1</td>\n",
       "      <td>0</td>\n",
       "      <td>0</td>\n",
       "      <td>0</td>\n",
       "      <td>0</td>\n",
       "    </tr>\n",
       "    <tr>\n",
       "      <th>188</th>\n",
       "      <td>0</td>\n",
       "      <td>1</td>\n",
       "      <td>1</td>\n",
       "      <td>0</td>\n",
       "      <td>0</td>\n",
       "      <td>0</td>\n",
       "      <td>0</td>\n",
       "    </tr>\n",
       "  </tbody>\n",
       "</table>\n",
       "<p>189 rows × 7 columns</p>\n",
       "</div>"
      ],
      "text/plain": [
       "     Green frogs  Brown frogs  Common toad  Fire-bellied toad  Tree frog  \\\n",
       "0              0            0            0                  0          0   \n",
       "1              0            1            1                  0          0   \n",
       "2              0            1            1                  0          0   \n",
       "3              0            0            1                  0          0   \n",
       "4              0            1            1                  1          0   \n",
       "..           ...          ...          ...                ...        ...   \n",
       "184            0            1            0                  0          0   \n",
       "185            1            1            1                  1          0   \n",
       "186            1            1            1                  1          0   \n",
       "187            0            1            1                  0          0   \n",
       "188            0            1            1                  0          0   \n",
       "\n",
       "     Common newt  Great crested newt  \n",
       "0              0                   0  \n",
       "1              1                   0  \n",
       "2              1                   0  \n",
       "3              0                   0  \n",
       "4              1                   1  \n",
       "..           ...                 ...  \n",
       "184            0                   0  \n",
       "185            1                   0  \n",
       "186            1                   0  \n",
       "187            0                   0  \n",
       "188            0                   0  \n",
       "\n",
       "[189 rows x 7 columns]"
      ]
     },
     "execution_count": 30,
     "metadata": {},
     "output_type": "execute_result"
    }
   ],
   "source": [
    "Y"
   ]
  },
  {
   "cell_type": "markdown",
   "id": "valuable-capacity",
   "metadata": {},
   "source": [
    "Lets get some summary stats."
   ]
  },
  {
   "cell_type": "code",
   "execution_count": 194,
   "id": "bottom-madrid",
   "metadata": {},
   "outputs": [
    {
     "name": "stdout",
     "output_type": "stream",
     "text": [
      "Motorway has categories ['A1' 'S52']\n",
      "SR has categories ['100' '1000' '10000' '10050' '1100' '115000' '1300' '1400' '150' '1500'\n",
      " '15000' '1600' '16000' '1700' '1800' '1900' '19300' '200' '2000' '2100'\n",
      " '22000' '2300' '2400' '250' '2500' '25000' '2600' '26000' '28300' '29000'\n",
      " '30' '300' '3000' '30000' '31000' '3300' '3400' '350' '3500' '360000'\n",
      " '3800' '400' '4000' '40000' '4100' '4300' '450' '4500' '50' '500' '5000'\n",
      " '50000' '500000' '600' '6300' '700' '7000' '750' '800' '8000' '80000'\n",
      " '8250' '8300' '900' '9000' '9100']\n",
      "NR has categories ['1' '10' '12' '2' '3' '4' '5' '6' '7' '9']\n",
      "TR has categories ['1' '11' '12' '14' '15' '2' '5' '7']\n",
      "VR has categories ['0' '1' '2' '3' '4']\n",
      "SUR1 has categories ['1' '10' '14' '2' '4' '6' '7' '9']\n",
      "SUR2 has categories ['1' '10' '11' '2' '6' '7' '9']\n",
      "SUR3 has categories ['1' '10' '11' '2' '5' '6' '7' '9']\n",
      "UR has categories ['0' '1' '3']\n",
      "FR has categories ['0' '1' '2' '3' '4']\n",
      "OR has categories ['100' '25' '50' '75' '80' '99']\n",
      "RR has categories ['0' '1' '10' '2' '5' '9']\n",
      "BR has categories ['0' '1' '10' '2' '5' '9']\n",
      "MR has categories ['0' '1' '2']\n",
      "CR has categories ['1' '2']\n"
     ]
    }
   ],
   "source": [
    "for a in X:\n",
    "    cats = np.unique(X[a])\n",
    "    print(a, 'has categories', cats)"
   ]
  },
  {
   "cell_type": "code",
   "execution_count": null,
   "id": "standard-meeting",
   "metadata": {},
   "outputs": [],
   "source": []
  },
  {
   "cell_type": "markdown",
   "id": "written-seating",
   "metadata": {},
   "source": [
    "Lets look at how many frog types each reservoir sample has."
   ]
  },
  {
   "cell_type": "code",
   "execution_count": 8,
   "id": "revolutionary-product",
   "metadata": {},
   "outputs": [
    {
     "data": {
      "text/plain": [
       "Green frogs           108\n",
       "Brown frogs           148\n",
       "Common toad           124\n",
       "Fire-bellied toad      58\n",
       "Tree frog              71\n",
       "Common newt            58\n",
       "Great crested newt     21\n",
       "dtype: int64"
      ]
     },
     "execution_count": 8,
     "metadata": {},
     "output_type": "execute_result"
    }
   ],
   "source": [
    "np.sum(Y)"
   ]
  },
  {
   "cell_type": "markdown",
   "id": "golden-stable",
   "metadata": {},
   "source": [
    "Among all the reservoirs, the brown frog, common toad, and green frogs are the most prevalant."
   ]
  },
  {
   "cell_type": "markdown",
   "id": "occupational-fluid",
   "metadata": {},
   "source": [
    "To start I'll look at brown frogs as they're the most common and great crested newts as they're the least common. Lets see the distribution of the frogs based on location."
   ]
  },
  {
   "cell_type": "code",
   "execution_count": 9,
   "id": "significant-stage",
   "metadata": {},
   "outputs": [
    {
     "name": "stdout",
     "output_type": "stream",
     "text": [
      "The number of unique types of frogs at each reservation is:  [0 3 3 1 5 0 1 3 2 2 1 2 2 3 2 5 3 2 4 3 2 3 2 2 2 4 1 3 5 3 2 1 2 1 2 2 1\n",
      " 3 1 1 3 3 2 1 3 5 2 4 4 3 5 3 1 2 6 2 5 1 4 2 4 2 5 2 3 2 1 1 1 4 3 3 1 1\n",
      " 4 1 2 1 1 3 6 2 2 3 5 4 3 3 5 1 5 5 4 4 5 7 3 7 7 7 3 2 7 7 2 5 1 3 2 4 7\n",
      " 7 6 6 2 2 1 4 4 2 3 6 1 1 0 1 7 6 0 1 3 0 3 2 1 2 5 4 1 2 6 4 6 6 2 4 5 5\n",
      " 5 5 3 2 3 6 6 3 5 1 6 1 6 6 1 4 4 3 5 5 1 1 7 1 1 6 6 2 1 1 0 5 6 2 3 2 1\n",
      " 5 5 2 2]\n",
      "The average number of kinds of frogs per reservoir is  3.111111111111111\n",
      "The median number of kinds of frogs per reservoir is  3.0\n"
     ]
    }
   ],
   "source": [
    "print('The number of unique types of frogs at each reservation is: ', np.sum(Y.to_numpy(), axis=1))\n",
    "print('The average number of kinds of frogs per reservoir is ', np.mean(np.sum(Y, axis=1)))\n",
    "print('The median number of kinds of frogs per reservoir is ', np.median(np.sum(Y, axis=1)))"
   ]
  },
  {
   "cell_type": "code",
   "execution_count": 89,
   "id": "pursuant-chrome",
   "metadata": {},
   "outputs": [],
   "source": [
    "import matplotlib\n",
    "import matplotlib.pyplot as plt"
   ]
  },
  {
   "cell_type": "code",
   "execution_count": 125,
   "id": "enabling-coordinate",
   "metadata": {},
   "outputs": [],
   "source": [
    "# Brown frogs by motorway\n",
    "\n",
    "ind = np.nonzero((X.iloc[:,0] == 'A1').to_numpy())[0]\n",
    "Y_A1 = Y.to_numpy()[ind, 1]\n",
    "ind = np.nonzero((X.iloc[:,0] != 'A1').to_numpy())[0]\n",
    "Y_S52 = Y.to_numpy()[ind, 1]"
   ]
  },
  {
   "cell_type": "code",
   "execution_count": 126,
   "id": "continued-spank",
   "metadata": {},
   "outputs": [
    {
     "data": {
      "image/png": "[encoded data removed]",
      "text/plain": [
       "<Figure size 432x288 with 1 Axes>"
      ]
     },
     "metadata": {
      "needs_background": "light"
     },
     "output_type": "display_data"
    }
   ],
   "source": [
    "%matplotlib inline\n",
    "fig, ax = plt.subplots()\n",
    "\n",
    "ax.boxplot((Y_A1, Y_S52));\n",
    "ax.set_xticklabels(['A1 Motorway', 'S52 Motorway']);\n",
    "ax.set_title('Presence of Brown Frogs by Motorway');"
   ]
  },
  {
   "cell_type": "markdown",
   "id": "coupled-strap",
   "metadata": {},
   "source": [
    "This doesn't give much information."
   ]
  },
  {
   "cell_type": "code",
   "execution_count": 127,
   "id": "interstate-engine",
   "metadata": {},
   "outputs": [
    {
     "data": {
      "text/plain": [
       "Text(0.5, 1.0, 'Number of Brown Forgs by Motorway')"
      ]
     },
     "execution_count": 127,
     "metadata": {},
     "output_type": "execute_result"
    },
    {
     "data": {
      "image/png": "[encoded data removed]",
      "text/plain": [
       "<Figure size 432x288 with 1 Axes>"
      ]
     },
     "metadata": {
      "needs_background": "light"
     },
     "output_type": "display_data"
    }
   ],
   "source": [
    "x = np.arange(2)\n",
    "\n",
    "fig, ax = plt.subplots()\n",
    "\n",
    "ax.bar(['A1 Motorway', 'S52 Motorway'], [np.count_nonzero(Y_A1), np.count_nonzero(Y_S52)]);\n",
    "\n",
    "ax.set_ylabel('Number of Brown Frogs');\n",
    "ax.set_title('Number of Brown Frogs by Motorway');"
   ]
  },
  {
   "cell_type": "code",
   "execution_count": 128,
   "id": "worth-validation",
   "metadata": {},
   "outputs": [],
   "source": [
    "Y_S52 = Y['Great crested newt'].to_numpy()[ind]\n",
    "ind = np.nonzero((X.iloc[:,0] == 'A1').to_numpy())[0]\n",
    "Y_A1 = Y['Great crested newt'].to_numpy()[ind]"
   ]
  },
  {
   "cell_type": "code",
   "execution_count": 130,
   "id": "accessory-reader",
   "metadata": {},
   "outputs": [
    {
     "data": {
      "text/plain": [
       "Text(0.5, 1.0, 'Number of Brown Forgs by Motorway')"
      ]
     },
     "execution_count": 130,
     "metadata": {},
     "output_type": "execute_result"
    },
    {
     "data": {
      "image/png": "[encoded data removed]",
      "text/plain": [
       "<Figure size 432x288 with 1 Axes>"
      ]
     },
     "metadata": {
      "needs_background": "light"
     },
     "output_type": "display_data"
    }
   ],
   "source": [
    "x = np.arange(2)\n",
    "\n",
    "fig, ax = plt.subplots()\n",
    "\n",
    "ax.bar(['A1 Motorway', 'S52 Motorway'], [np.count_nonzero(Y_A1), np.count_nonzero(Y_S52)]);\n",
    "\n",
    "ax.set_ylabel('Number of Great Crested Newts')\n",
    "ax.set_title('Number of Great Crested Newts by Motorway')"
   ]
  },
  {
   "cell_type": "markdown",
   "id": "global-score",
   "metadata": {},
   "source": [
    "The S52 Motorway area is either a larger project or in an area that has more reservoirs. We can check this."
   ]
  },
  {
   "cell_type": "code",
   "execution_count": 137,
   "id": "compact-issue",
   "metadata": {},
   "outputs": [
    {
     "name": "stdout",
     "output_type": "stream",
     "text": [
      "Reservoirs in the A1 region:  80\n",
      "Reservoirs in the S52 region:  109\n"
     ]
    }
   ],
   "source": [
    "print('Reservoirs in the A1 region: ', len(Y_A1))\n",
    "print('Reservoirs in the S52 region: ', len(Y_S52))"
   ]
  },
  {
   "cell_type": "markdown",
   "id": "conservative-combining",
   "metadata": {},
   "source": [
    "So the S52 definitely has more reservoirs. This will likely skew the data in its favor however, the proportion of frogs in the area of the S52 motorway is still not really accounted for by the number of reservations. Lets check the area covered by the reservations for each motorway area."
   ]
  },
  {
   "cell_type": "code",
   "execution_count": 146,
   "id": "olympic-courtesy",
   "metadata": {},
   "outputs": [],
   "source": [
    "ind = np.nonzero((X.iloc[:,0] == 'A1').to_numpy())[0]\n",
    "A1_area = X['SR'].astype(int).to_numpy()[ind]\n",
    "ind = np.nonzero((X.iloc[:,0] != 'A1').to_numpy())[0]\n",
    "S52_area = X['SR'].astype(int).to_numpy()[ind]"
   ]
  },
  {
   "cell_type": "code",
   "execution_count": 147,
   "id": "artistic-blend",
   "metadata": {},
   "outputs": [
    {
     "name": "stdout",
     "output_type": "stream",
     "text": [
      "Reservoir area for A1 region is  398330\n",
      "Reservoir area for S52 region is  1422350\n"
     ]
    }
   ],
   "source": [
    "print('Reservoir area for A1 region is ', np.sum(A1_area))\n",
    "print('Reservoir area for S52 region is ', np.sum(S52_area))"
   ]
  },
  {
   "cell_type": "code",
   "execution_count": 155,
   "id": "overhead-reader",
   "metadata": {},
   "outputs": [
    {
     "name": "stdout",
     "output_type": "stream",
     "text": [
      "The ratio of the areas for the regions, 0.28005062045206874 , is less than the ratio of frogs in the regions, at least for the Brown Frog and Great Crested Newt - 0.5 and 0.333 respectively. The ratio of reservoirs was greater than 0.5\n"
     ]
    }
   ],
   "source": [
    "print('The ratio of the areas for the regions,', 398330 / 1422350,\n",
    "      ', is less than the ratio of frogs in the regions, at least for the Brown Frog and Great Crested Newt - 0.5 and 0.333 respectively. The ratio of reservoirs was greater than 0.5')"
   ]
  },
  {
   "cell_type": "markdown",
   "id": "drawn-tours",
   "metadata": {},
   "source": [
    "It is possible that the more common frogs require less space or less specific resources and thus seem to be at wherever there is a reservoir. Lets look at the two frogs with the area."
   ]
  },
  {
   "cell_type": "code",
   "execution_count": 157,
   "id": "surprised-transaction",
   "metadata": {},
   "outputs": [
    {
     "data": {
      "text/plain": [
       "0      0\n",
       "1      1\n",
       "2      1\n",
       "3      0\n",
       "4      1\n",
       "      ..\n",
       "184    1\n",
       "185    1\n",
       "186    1\n",
       "187    1\n",
       "188    1\n",
       "Name: Brown frogs, Length: 189, dtype: int64"
      ]
     },
     "execution_count": 157,
     "metadata": {},
     "output_type": "execute_result"
    }
   ],
   "source": [
    "Y['Brown frogs']"
   ]
  },
  {
   "cell_type": "code",
   "execution_count": 158,
   "id": "wrapped-democrat",
   "metadata": {},
   "outputs": [],
   "source": [
    "ind = np.nonzero(Y['Brown frogs'].to_numpy())\n",
    "Area_bf = X['SR'].astype(int).to_numpy()[ind]\n",
    "ind = np.nonzero(Y['Great crested newt'].to_numpy())\n",
    "Area_gcn = X['SR'].astype(int).to_numpy()[ind]"
   ]
  },
  {
   "cell_type": "code",
   "execution_count": 180,
   "id": "directed-holder",
   "metadata": {},
   "outputs": [
    {
     "data": {
      "image/png": "[encoded data removed]",
      "text/plain": [
       "<Figure size 432x288 with 2 Axes>"
      ]
     },
     "metadata": {
      "needs_background": "light"
     },
     "output_type": "display_data"
    }
   ],
   "source": [
    "fig, (ax1, ax2) = plt.subplots(2)\n",
    "\n",
    "ax1.hist(Area_bf);\n",
    "ax2.hist(Area_gcn);"
   ]
  },
  {
   "cell_type": "markdown",
   "id": "grand-tracker",
   "metadata": {},
   "source": [
    "Lets ignore large outliers."
   ]
  },
  {
   "cell_type": "code",
   "execution_count": null,
   "id": "appointed-awareness",
   "metadata": {},
   "outputs": [],
   "source": []
  }
 ],
 "metadata": {
  "kernelspec": {
   "display_name": "Python 3",
   "language": "python",
   "name": "python3"
  },
  "language_info": {
   "codemirror_mode": {
    "name": "ipython",
    "version": 3
   },
   "file_extension": ".py",
   "mimetype": "text/x-python",
   "name": "python",
   "nbconvert_exporter": "python",
   "pygments_lexer": "ipython3",
   "version": "3.8.6"
  },
  "toc-autonumbering": false,
  "toc-showcode": false,
  "toc-showtags": false
 },
 "nbformat": 4,
 "nbformat_minor": 5
}
